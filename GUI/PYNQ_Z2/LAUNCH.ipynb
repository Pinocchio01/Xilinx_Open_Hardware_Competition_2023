{
 "cells": [
  {
   "cell_type": "code",
   "execution_count": null,
   "id": "e9f43dfb",
   "metadata": {
    "extensions": {
     "jupyter_dashboards": {
      "activeView": "grid_default",
      "views": {
       "grid_default": {
        "col": null,
        "height": 2,
        "hidden": true,
        "locked": true,
        "row": null,
        "width": 2
       }
      }
     }
    },
    "tags": []
   },
   "outputs": [],
   "source": [
    "# ----------------------------------------------------------------------------------\n",
    "# -- Company: University of Stuttgart (IIS)\n",
    "# -- Engineer: Yichao Peng\n",
    "# -- \n",
    "# -- Description:\n",
    "# -- This GUI is for IIS pNMR device use only. All rights reserved.\n",
    "# ----------------------------------------------------------------------------------\n",
    "\n",
    "import src.main as main"
   ]
  },
  {
   "cell_type": "code",
   "execution_count": null,
   "id": "da9305d8-8283-4a2d-af87-84b5e41643ee",
   "metadata": {
    "jp-MarkdownHeadingCollapsed": true,
    "tags": []
   },
   "outputs": [],
   "source": [
    "## Auto collect data script\n",
    "\n",
    "# main.auto_collect_data()"
   ]
  }
 ],
 "metadata": {
  "extensions": {
   "jupyter_dashboards": {
    "activeView": "grid_default",
    "version": 1,
    "views": {
     "grid_default": {
      "cellMargin": 2,
      "defaultCellHeight": 40,
      "maxColumns": 12,
      "name": "grid",
      "type": "grid"
     }
    }
   }
  },
  "kernelspec": {
   "display_name": "Python 3 (ipykernel)",
   "language": "python",
   "name": "python3"
  },
  "language_info": {
   "codemirror_mode": {
    "name": "ipython",
    "version": 3
   },
   "file_extension": ".py",
   "mimetype": "text/x-python",
   "name": "python",
   "nbconvert_exporter": "python",
   "pygments_lexer": "ipython3",
   "version": "3.10.4"
  },
  "vscode": {
   "interpreter": {
    "hash": "ae9a0accc524b17dec66414904964692360ffd8e75c589f38fedb02e9b0602c1"
   }
  }
 },
 "nbformat": 4,
 "nbformat_minor": 5
}
